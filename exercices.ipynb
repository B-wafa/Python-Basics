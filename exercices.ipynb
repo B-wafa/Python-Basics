{
  "nbformat": 4,
  "nbformat_minor": 0,
  "metadata": {
    "kernelspec": {
      "display_name": "Python 3",
      "language": "python",
      "name": "python3"
    },
    "language_info": {
      "codemirror_mode": {
        "name": "ipython",
        "version": 3
      },
      "file_extension": ".py",
      "mimetype": "text/x-python",
      "name": "python",
      "nbconvert_exporter": "python",
      "pygments_lexer": "ipython3",
      "version": "3.8.5"
    },
    "colab": {
      "provenance": []
    }
  },
  "cells": [
    {
      "cell_type": "markdown",
      "metadata": {
        "id": "QN3Ob7ZtuG8y"
      },
      "source": [
        "### ex1 :  Access value 20 from the following tuple"
      ]
    },
    {
      "cell_type": "markdown",
      "metadata": {
        "id": "f2exsUR8uG86"
      },
      "source": [
        "aTuple = (\"Orange\", [10, 20, 30], (5, 15, 25))"
      ]
    },
    {
      "cell_type": "markdown",
      "metadata": {
        "id": "AcmPBjiBuG87"
      },
      "source": [
        "### solution"
      ]
    },
    {
      "cell_type": "code",
      "metadata": {
        "id": "I1jAmgr0uG88",
        "colab": {
          "base_uri": "https://localhost:8080/"
        },
        "outputId": "6b571bf1-9c1d-431f-a3ae-cf4ad0f378ac"
      },
      "source": [
        "aTuple = (\"Orange\", [10, 20, 30], (5, 15, 25))\n",
        "print(aTuple[1][1])"
      ],
      "execution_count": null,
      "outputs": [
        {
          "output_type": "stream",
          "name": "stdout",
          "text": [
            "20\n"
          ]
        }
      ]
    },
    {
      "cell_type": "markdown",
      "metadata": {
        "id": "k5MjIwAeuG89"
      },
      "source": [
        "### ex2: Write a Python program to find the index of an item of a tuple"
      ]
    },
    {
      "cell_type": "markdown",
      "metadata": {
        "id": "yoSdYbJS424g"
      },
      "source": [
        "(\"hello world\")\n",
        "\n",
        "index where \"l\" is attributed is [2,3,9]"
      ]
    },
    {
      "cell_type": "markdown",
      "metadata": {
        "id": "B3XSpgbDuG8-"
      },
      "source": [
        "### solution"
      ]
    },
    {
      "cell_type": "code",
      "metadata": {
        "colab": {
          "base_uri": "https://localhost:8080/"
        },
        "id": "1nI-XoxMuG8-",
        "outputId": "093a3361-d863-4764-8ea3-55787ff9b48f"
      },
      "source": [
        "#create a tuple\n",
        "tuplex = tuple(\"hello world\")\n",
        "#get the letter\n",
        "ver = input(\"veuilliez entrez un caractére :  \")\n",
        "print(tuplex)\n",
        "#get index of the first item whose value is passed as parameter\n",
        "#index = tuplex.index(ver)\n",
        "#print(index)\n",
        "#define the index from which you want to search\n",
        "#index = tuplex.index(ver, 5)\n",
        "#print(index)\n",
        "#define the segment of the tuple to be searched\n",
        "index = []\n",
        "for ind in range(len(tuplex)):\n",
        "  if tuplex[ind] == ver:\n",
        "    index.append(ind)\n",
        "#index = tuplex.index(\"e\", 3)\n",
        "print(index)\n",
        "#if item not exists in the tuple return ValueError Exception\n",
        "#index = tuplex.index(\"y\")"
      ],
      "execution_count": null,
      "outputs": [
        {
          "output_type": "stream",
          "name": "stdout",
          "text": [
            "veuilliez entrez un caractére :  o\n",
            "('h', 'e', 'l', 'l', 'o', ' ', 'w', 'o', 'r', 'l', 'd')\n",
            "[4, 7]\n"
          ]
        }
      ]
    },
    {
      "cell_type": "code",
      "source": [
        "ver = input(\"veuilliez entrez un caractére\")"
      ],
      "metadata": {
        "colab": {
          "base_uri": "https://localhost:8080/"
        },
        "id": "PWFLp87HLZzI",
        "outputId": "0a782496-fc2e-4e7b-9655-8b81f4e5d41f"
      },
      "execution_count": null,
      "outputs": [
        {
          "name": "stdout",
          "output_type": "stream",
          "text": [
            "veuilliez entrez un caractéres\n"
          ]
        }
      ]
    },
    {
      "cell_type": "markdown",
      "metadata": {
        "id": "jTM5H_X5uG8_"
      },
      "source": [
        "### ex 3 : Write a Python program to sort a tuple by its float element."
      ]
    },
    {
      "cell_type": "markdown",
      "metadata": {
        "id": "CTX5alILuG8_"
      },
      "source": [
        "Sample data: [('item1', '15.1'), ('item2', '12.2'), ('item3', '24.5')]\n",
        "\n",
        "Expected Output: [('item3', '24.5'), ('item1', '15.10'), ('item2', '12.20')]"
      ]
    },
    {
      "cell_type": "markdown",
      "metadata": {
        "id": "aVG20kHquG9A"
      },
      "source": [
        "### solution"
      ]
    },
    {
      "cell_type": "code",
      "metadata": {
        "id": "Ec6zM8vquG9B",
        "colab": {
          "base_uri": "https://localhost:8080/"
        },
        "outputId": "87816233-7a29-463f-c448-8e912bc21951"
      },
      "source": [
        "price = [('item2', '12.20'), ('item1', '15.10'), ('item3', '24.5')]\n",
        "\n",
        "def floconv(itemtuple):\n",
        "    return float(itemtuple[1])\n",
        "\n",
        "print(sorted(price, key=floconv, reverse=True))"
      ],
      "execution_count": null,
      "outputs": [
        {
          "output_type": "stream",
          "name": "stdout",
          "text": [
            "[('item3', '24.5'), ('item1', '15.10'), ('item2', '12.20')]\n"
          ]
        }
      ]
    },
    {
      "cell_type": "code",
      "metadata": {
        "id": "OKgTu54egt0l",
        "colab": {
          "base_uri": "https://localhost:8080/"
        },
        "outputId": "26afe519-0101-476e-e633-2613ed276681"
      },
      "source": [
        "help(sorted)"
      ],
      "execution_count": null,
      "outputs": [
        {
          "output_type": "stream",
          "name": "stdout",
          "text": [
            "Help on built-in function sorted in module builtins:\n",
            "\n",
            "sorted(iterable, /, *, key=None, reverse=False)\n",
            "    Return a new list containing all items from the iterable in ascending order.\n",
            "    \n",
            "    A custom key function can be supplied to customize the sort order, and the\n",
            "    reverse flag can be set to request the result in descending order.\n",
            "\n"
          ]
        }
      ]
    }
  ]
}