{
  "nbformat": 4,
  "nbformat_minor": 0,
  "metadata": {
    "colab": {
      "provenance": []
    },
    "kernelspec": {
      "name": "python3",
      "display_name": "Python 3"
    },
    "language_info": {
      "name": "python"
    }
  },
  "cells": [
    {
      "cell_type": "markdown",
      "source": [
        "## **Question 1**"
      ],
      "metadata": {
        "id": "FiAMgO1aS6_A"
      }
    },
    {
      "cell_type": "code",
      "source": [
        "mylist=[]\n",
        "for x in range(2000,3201):\n",
        "  if x%7==0 and x%5!=0:\n",
        "    mylist.append(x)\n",
        "print(mylist)"
      ],
      "metadata": {
        "id": "7_IonlLYTBYe",
        "colab": {
          "base_uri": "https://localhost:8080/"
        },
        "outputId": "f58643a5-0b64-4e5d-af2c-c61975ae80db"
      },
      "execution_count": null,
      "outputs": [
        {
          "output_type": "stream",
          "name": "stdout",
          "text": [
            "[2002, 2009, 2016, 2023, 2037, 2044, 2051, 2058, 2072, 2079, 2086, 2093, 2107, 2114, 2121, 2128, 2142, 2149, 2156, 2163, 2177, 2184, 2191, 2198, 2212, 2219, 2226, 2233, 2247, 2254, 2261, 2268, 2282, 2289, 2296, 2303, 2317, 2324, 2331, 2338, 2352, 2359, 2366, 2373, 2387, 2394, 2401, 2408, 2422, 2429, 2436, 2443, 2457, 2464, 2471, 2478, 2492, 2499, 2506, 2513, 2527, 2534, 2541, 2548, 2562, 2569, 2576, 2583, 2597, 2604, 2611, 2618, 2632, 2639, 2646, 2653, 2667, 2674, 2681, 2688, 2702, 2709, 2716, 2723, 2737, 2744, 2751, 2758, 2772, 2779, 2786, 2793, 2807, 2814, 2821, 2828, 2842, 2849, 2856, 2863, 2877, 2884, 2891, 2898, 2912, 2919, 2926, 2933, 2947, 2954, 2961, 2968, 2982, 2989, 2996, 3003, 3017, 3024, 3031, 3038, 3052, 3059, 3066, 3073, 3087, 3094, 3101, 3108, 3122, 3129, 3136, 3143, 3157, 3164, 3171, 3178, 3192, 3199]\n"
          ]
        }
      ]
    },
    {
      "cell_type": "markdown",
      "source": [
        "# **Question 2**"
      ],
      "metadata": {
        "id": "IalY6fLj3g7X"
      }
    },
    {
      "cell_type": "code",
      "source": [
        "\n",
        "def fact(n):\n",
        " if n==0:\n",
        "  print(\"Le factoriel de 0 est égal à 1\" )\n",
        " elif n<0:\n",
        "  print(\"ERREUR:les entiers négatifs ne sont pas acceptés\")\n",
        "  n1=int(input('Veuillez retapez une valeur : '))\n",
        "  fact(n1)\n",
        " else:\n",
        "  f=1\n",
        "  for x in range(1,n+1):\n",
        "   f=f*x\n",
        "  print(\"Le factoriel de\",n,\"est\",f)\n"
      ],
      "metadata": {
        "id": "inb4jhj046U3"
      },
      "execution_count": null,
      "outputs": []
    },
    {
      "cell_type": "code",
      "source": [
        "n2=int(input('Donnez une valeur : '))\n",
        "fact(n2)\n"
      ],
      "metadata": {
        "colab": {
          "base_uri": "https://localhost:8080/"
        },
        "id": "N-cwqZNm5opp",
        "outputId": "9d298fe2-65db-42c1-85a1-56cd8b002bcc"
      },
      "execution_count": null,
      "outputs": [
        {
          "output_type": "stream",
          "name": "stdout",
          "text": [
            "Donner une valeur : -9\n",
            "ERREUR:les entiers négatifs ne sont pas acceptés\n",
            "Veuillez retapez une valeur : 5\n",
            "Le factoriel de 5 est 120\n"
          ]
        }
      ]
    },
    {
      "cell_type": "markdown",
      "source": [
        "# **Question 3**"
      ],
      "metadata": {
        "id": "z6TDd0F7Asoy"
      }
    },
    {
      "cell_type": "code",
      "source": [
        "\n",
        "n=int(input(\"Donnez une valeur: \"))\n",
        "keys=[]\n",
        "for i in range(1,n+1):\n",
        "  keys.append(i)\n",
        "print(\"keys=\",keys)\n",
        "values=[]\n",
        "for i in range (1,n+1):\n",
        "  values.append(i*i)\n",
        "print(\"values=\",values)\n",
        "mydict=dict(zip(keys,values))\n",
        "print(mydict)"
      ],
      "metadata": {
        "colab": {
          "base_uri": "https://localhost:8080/"
        },
        "id": "BlnybUDxA13G",
        "outputId": "43e614d0-a890-4df6-d267-e166f65ac810"
      },
      "execution_count": null,
      "outputs": [
        {
          "output_type": "stream",
          "name": "stdout",
          "text": [
            "Donnez une valeur: 4\n",
            "keys= [1, 2, 3, 4]\n",
            "values= [1, 4, 9, 16]\n",
            "{1: 1, 2: 4, 3: 9, 4: 16}\n"
          ]
        }
      ]
    },
    {
      "cell_type": "markdown",
      "source": [
        "# **Question 4**"
      ],
      "metadata": {
        "id": "57VRik6ZG-tc"
      }
    },
    {
      "cell_type": "code",
      "source": [
        "mystr=input(\"tapez un mot: \")\n",
        "n=int(input(\"tapez une valeur: \"))\n",
        "print(mystr[0:n]+mystr[n+1:])"
      ],
      "metadata": {
        "colab": {
          "base_uri": "https://localhost:8080/"
        },
        "id": "qOAGNrkYHC_V",
        "outputId": "ff49057d-4e73-4871-a9da-78da7d3c4d82"
      },
      "execution_count": null,
      "outputs": [
        {
          "output_type": "stream",
          "name": "stdout",
          "text": [
            "tapez un mot: kitten\n",
            "tapez une valeur: 4\n",
            "kittn\n"
          ]
        }
      ]
    },
    {
      "cell_type": "markdown",
      "source": [
        "# **Question 5**"
      ],
      "metadata": {
        "id": "0-7lSO2YP1MN"
      }
    },
    {
      "cell_type": "code",
      "source": [
        "import numpy as np\n",
        "array=np.array([[0,1],[2,3],[4,5]])\n",
        "mylist1=array.tolist()\n",
        "print(\"original array: \",array)\n",
        "print(\"array to list: \",mylist1)"
      ],
      "metadata": {
        "colab": {
          "base_uri": "https://localhost:8080/"
        },
        "id": "IMi5dNoWP4kA",
        "outputId": "af69b14f-6c55-4475-9caa-01697d9e4ad1"
      },
      "execution_count": null,
      "outputs": [
        {
          "output_type": "stream",
          "name": "stdout",
          "text": [
            "original array:  [[0 1]\n",
            " [2 3]\n",
            " [4 5]]\n",
            "array to list:  [[0, 1], [2, 3], [4, 5]]\n"
          ]
        }
      ]
    },
    {
      "cell_type": "markdown",
      "source": [
        "# **Question 6**"
      ],
      "metadata": {
        "id": "y9TJtKPmTLCf"
      }
    },
    {
      "cell_type": "code",
      "source": [
        "import numpy as np\n",
        "x=[0, 1, 2]\n",
        "y=[2, 1, 0]\n",
        "covariance=np.cov(x,y)\n",
        "print(\"original array 1: \",x)\n",
        "print(\"original array 2: \",y)\n",
        "print(\"covariance: \",covariance)"
      ],
      "metadata": {
        "colab": {
          "base_uri": "https://localhost:8080/"
        },
        "id": "ahjZyGI3TvlX",
        "outputId": "fdcf2733-1b50-4091-d480-36ffa190fb3b"
      },
      "execution_count": null,
      "outputs": [
        {
          "output_type": "stream",
          "name": "stdout",
          "text": [
            "original array 1:  [0, 1, 2]\n",
            "original array 2:  [2, 1, 0]\n",
            "covariance:  [[ 1. -1.]\n",
            " [-1.  1.]]\n"
          ]
        }
      ]
    },
    {
      "cell_type": "markdown",
      "source": [
        "# **Question 7**"
      ],
      "metadata": {
        "id": "biNmOFnMVJGA"
      }
    },
    {
      "cell_type": "code",
      "source": [
        "C=(50,50,50)\n",
        "H=(30,30,30)\n",
        "#a, b, c=map(int,input(\"donnez trois valeurs: \").split(','))\n",
        "a, b, e=[int(x) for x in input(\"donnez trois valeurs: \").split(',')]\n",
        "D=a,b,e\n",
        "print(D)\n",
        "type(D)\n",
        "Q=tuple(map(lambda x,y,z,r: round((x*y*z/r)**0.5),(2,2,2),C,D,H))\n",
        "print(Q)"
      ],
      "metadata": {
        "colab": {
          "base_uri": "https://localhost:8080/"
        },
        "id": "ycIZOkGKVXq8",
        "outputId": "bb313941-1897-48dd-adfd-39701130056a"
      },
      "execution_count": null,
      "outputs": [
        {
          "output_type": "stream",
          "name": "stdout",
          "text": [
            "donnez trois valeurs: 1,2,3\n",
            "(1, 2, 3)\n",
            "(2, 3, 3)\n"
          ]
        }
      ]
    },
    {
      "cell_type": "code",
      "source": [
        "C=50\n",
        "H=30\n",
        "a, b, e=[int(x) for x in input(\"donnez trois valeurs: \").split(',')]\n",
        "D=a,b,e\n",
        "print(D)\n",
        "print(type(D))\n",
        "result=[]\n",
        "for i in D:\n",
        " Q=round((2*C*i/H)**0.5)\n",
        " result.append(Q)\n",
        "print(result)"
      ],
      "metadata": {
        "colab": {
          "base_uri": "https://localhost:8080/"
        },
        "id": "oeaUw0NpZLYI",
        "outputId": "4d500a7a-2407-4a93-a404-f80e70c4234f"
      },
      "execution_count": null,
      "outputs": [
        {
          "output_type": "stream",
          "name": "stdout",
          "text": [
            "donnez trois valeurs: 1,2,3\n",
            "(1, 2, 3)\n",
            "<class 'tuple'>\n",
            "[2, 3, 3]\n"
          ]
        }
      ]
    }
  ]
}